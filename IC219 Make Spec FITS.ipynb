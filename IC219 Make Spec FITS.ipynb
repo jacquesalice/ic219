{
 "cells": [
  {
   "cell_type": "markdown",
   "metadata": {},
   "source": [
    "## This code cuts out a piece of aperture you want from the MUSE Cube and saves the spectrum as a fits file.\n",
    "\n",
    "https://mpdaf.readthedocs.io/en/latest/index.html"
   ]
  },
  {
   "cell_type": "code",
   "execution_count": 1,
   "metadata": {},
   "outputs": [],
   "source": [
    "import numpy as np\n",
    "import astropy.units as u\n",
    "import matplotlib.pyplot as plt\n",
    "#import pyregion\n",
    "import scipy\n",
    "from scipy import ndimage\n",
    "from scipy.ndimage import gaussian_filter1d\n",
    "\n",
    "from astropy.utils import data\n",
    "from astropy.io import fits\n",
    "from astropy.io import ascii\n",
    "from astropy.io.ascii.sextractor import SExtractor\n",
    "#from astropy.utils.data import get_pkg_data_filename\n",
    "from astropy.wcs import WCS\n",
    "#from spectral_cube import SpectralCube\n",
    "\n",
    "from mpdaf.obj import Cube\n",
    "from mpdaf.obj import deg2sexa\n",
    "from mpdaf.obj import Image, WCS\n",
    "from mpdaf.obj import Spectrum, WaveCoord\n",
    "from mpdaf.obj import iter_spe\n",
    "from PyAstronomy import pyasl"
   ]
  },
  {
   "cell_type": "markdown",
   "metadata": {},
   "source": [
    "### Open MUSE Cube:"
   ]
  },
  {
   "cell_type": "code",
   "execution_count": 2,
   "metadata": {},
   "outputs": [
    {
     "name": "stderr",
     "output_type": "stream",
     "text": [
      "WARNING: UnitsWarning: '1e-20 erg/s/cm  2/Angstrom' contains multiple slashes, which is discouraged by the FITS standard [astropy.units.format.generic]\n"
     ]
    }
   ],
   "source": [
    "cube = Cube(filename='IC219.fits')"
   ]
  },
  {
   "cell_type": "markdown",
   "metadata": {},
   "source": [
    "### Input coordinates of the cluster. This may take a second once executed.\n",
    "<b><u> NOTE!!! cube axes are entered in as: [wavelength, y-value, x-value]"
   ]
  },
  {
   "cell_type": "code",
   "execution_count": 5,
   "metadata": {},
   "outputs": [],
   "source": [
    "n16 = cube[:,143:163,285:305] #aperture = 20x20\n",
    "n17 = cube[:,222:242,313:333] #aperture = 20x20\n",
    "n18 = cube[:,238:258,339:359] #aperture = 20x20\n",
    "n19 = cube[:,305:325,169:189] #aperture = 20x20\n",
    "n20 = cube[:,198:218,301:321] #aperture = 20x20\n",
    "n21 = cube[:,236:256,387:407] #aperture = 20x10\n",
    "n22 = cube[:,127:147,269:289] #aperture = 20x20\n",
    "n23 = cube[:,274:289,290:305] #aperture = 15x15"
   ]
  },
  {
   "cell_type": "markdown",
   "metadata": {},
   "source": [
    "### Next use MPDAF's built-in function to compute the overall spectrum of the cube by taking the cube and summing along the X and Y axes of the image plane. This yields the total flux per spectral pixel."
   ]
  },
  {
   "cell_type": "code",
   "execution_count": 4,
   "metadata": {},
   "outputs": [],
   "source": [
    "spe16 = n16.sum(axis=(1,2))\n",
    "spe17 = n17.sum(axis=(1,2))\n",
    "spe18 = n18.sum(axis=(1,2))\n",
    "spe19 = n19.sum(axis=(1,2))\n",
    "spe20 = n20.sum(axis=(1,2))\n",
    "spe21 = n21.sum(axis=(1,2))\n",
    "spe22 = n22.sum(axis=(1,2))\n",
    "spe23 = n23.sum(axis=(1,2))"
   ]
  },
  {
   "cell_type": "markdown",
   "metadata": {},
   "source": [
    "### Write the Spectrum object to a fits file:"
   ]
  },
  {
   "cell_type": "code",
   "execution_count": null,
   "metadata": {},
   "outputs": [],
   "source": [
    "Spectrum.write(spe16,'spe16.fits')\n",
    "Spectrum.write(spe17,'spe17.fits')\n",
    "Spectrum.write(spe18,'spe18.fits')\n",
    "Spectrum.write(spe19,'spe19.fits')\n",
    "Spectrum.write(spe20,'spe20.fits')\n",
    "Spectrum.write(spe21,'spe21.fits')\n",
    "Spectrum.write(spe22,'spe22.fits')\n",
    "Spectrum.write(spe23,'spe23.fits')"
   ]
  },
  {
   "cell_type": "code",
   "execution_count": 6,
   "metadata": {},
   "outputs": [
    {
     "name": "stdout",
     "output_type": "stream",
     "text": [
      "Filename: spe23.fits\n",
      "No.    Name      Ver    Type      Cards   Dimensions   Format\n",
      "  0  PRIMARY       1 PrimaryHDU       6   ()      \n",
      "  1  DATA          1 ImageHDU        14   (3682,)   float32   \n",
      "  2  STAT          1 ImageHDU        14   (3682,)   float32   \n",
      "  3  DQ            1 ImageHDU        13   (3682,)   uint8   \n",
      "XTENSION= 'IMAGE   '           / Image extension                                BITPIX  =                  -32 / array data type                                NAXIS   =                    1 / number of array dimensions                     NAXIS1  =                 3682                                                  PCOUNT  =                    0 / number of parameters                           GCOUNT  =                    1 / number of groups                               WCSAXES =                    1 / Number of coordinate axes                      CRVAL1  =        4750.41015625 / Coordinate value at reference point            CRPIX1  =                  1.0 / Pixel coordinate of reference point            CUNIT1  = 'Angstrom'           / Units of coordinate increment and value        CTYPE1  = 'AWAV    '           / Coordinate type code                           CDELT1  =                 1.25 / Coordinate increment at reference point        BUNIT   = '10**-20 Angstrom-1 cm-2 erg s-1' / data unit type                    EXTNAME = 'DATA    '           / extension name                                 END                                                                                                                                                                                                                                                                                                                                                                                                                                                                                                                                                                                                                                                                                                                                                                                                                                                                                                                                                                                                                                                                                                                                                                                                                                                                                                                                                                                                                                                                                                                                                                                                                                                                                                                                                                                                                             \n"
     ]
    }
   ],
   "source": [
    "hdul = fits.open('spe23.fits')\n",
    "hdul.info()\n",
    "print(hdul[1].header)\n",
    "data = hdul[1].data"
   ]
  },
  {
   "cell_type": "markdown",
   "metadata": {},
   "source": [
    "### Parameters from header:"
   ]
  },
  {
   "cell_type": "code",
   "execution_count": null,
   "metadata": {},
   "outputs": [],
   "source": [
    "wp = {\"CRVAL1\":4750.41015625, \"CDELT1\":1.25, \"CRPIX1\":1.0}"
   ]
  },
  {
   "cell_type": "markdown",
   "metadata": {},
   "source": [
    "### Save the Spectrum fits file as a 1D fits spectrum file:"
   ]
  },
  {
   "cell_type": "code",
   "execution_count": null,
   "metadata": {},
   "outputs": [],
   "source": [
    "pyasl.write1dFitsSpec('n23-1dspec.fits',data,waveParams=wp,clobber=True)"
   ]
  }
 ],
 "metadata": {
  "kernelspec": {
   "display_name": "Python 3",
   "language": "python",
   "name": "python3"
  },
  "language_info": {
   "codemirror_mode": {
    "name": "ipython",
    "version": 3
   },
   "file_extension": ".py",
   "mimetype": "text/x-python",
   "name": "python",
   "nbconvert_exporter": "python",
   "pygments_lexer": "ipython3",
   "version": "3.7.3"
  }
 },
 "nbformat": 4,
 "nbformat_minor": 2
}
